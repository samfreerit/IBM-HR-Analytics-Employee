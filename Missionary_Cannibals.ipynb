{
  "nbformat": 4,
  "nbformat_minor": 0,
  "metadata": {
    "kernelspec": {
      "display_name": "Python 3",
      "language": "python",
      "name": "python3"
    },
    "language_info": {
      "codemirror_mode": {
        "name": "ipython",
        "version": 3
      },
      "file_extension": ".py",
      "mimetype": "text/x-python",
      "name": "python",
      "nbconvert_exporter": "python",
      "pygments_lexer": "ipython3",
      "version": "3.8.3"
    },
    "toc": {
      "base_numbering": 1,
      "nav_menu": {},
      "number_sections": true,
      "sideBar": true,
      "skip_h1_title": false,
      "title_cell": "Table of Contents",
      "title_sidebar": "Contents",
      "toc_cell": false,
      "toc_position": {},
      "toc_section_display": true,
      "toc_window_display": false
    },
    "colab": {
      "provenance": [],
      "include_colab_link": true
    }
  },
  "cells": [
    {
      "cell_type": "markdown",
      "metadata": {
        "id": "view-in-github",
        "colab_type": "text"
      },
      "source": [
        "<a href=\"https://colab.research.google.com/github/samfreerit/IBM-HR-Analytics-Employee/blob/main/Missionary_Cannibals.ipynb\" target=\"_parent\"><img src=\"https://colab.research.google.com/assets/colab-badge.svg\" alt=\"Open In Colab\"/></a>"
      ]
    },
    {
      "cell_type": "markdown",
      "metadata": {
        "id": "y5dddMZVQogb"
      },
      "source": [
        "# <center>3 Missionaries 3 Cannibals</center>\n",
        "\n",
        "Create the famous 3 missionaries 3 cannibals crossing the river game.\n",
        "\n",
        "[Play Game!](https://www.novelgames.com/en/missionaries/)\n",
        "\n",
        "## Notebook Content :\n",
        "\n",
        "- **Lesson 1 :**\n",
        "  - Setting up the initial environment of the game.\n",
        "\n",
        "- **Lesson 2 :**\n",
        "  - Adding the required valid and invalid conditions alongwith their operations.\n",
        "\n",
        "- **Lesson 3 :**\n",
        "  - Combining all segments of the code to build the game.\n",
        "\n",
        "- **Lesson 4 :**\n",
        "  - Adding emoticons to complete the game with better interface.\n"
      ]
    },
    {
      "cell_type": "markdown",
      "metadata": {
        "id": "E6meN3PiQogl"
      },
      "source": [
        "## Rules :\n",
        "- Only 1 or 2 people are permitted on the boat to travel.\n",
        "- We cannot select anymore missionaries or cannibals on the boat than the available number of missionaries or cannibals on either side.\n",
        "- You **lose** if the number of cannibals exceeds the number of missionaries on either side.\n",
        "- You **win** if you successfully transfer all the missionaries and cannibals from right side to left side."
      ]
    },
    {
      "cell_type": "markdown",
      "metadata": {
        "id": "1fGHJcbTQogm"
      },
      "source": [
        "## <center>**Lesson 1**</center>\n",
        "\n",
        "#### <center>**Setting up the initial environment of the game**</center>"
      ]
    },
    {
      "cell_type": "markdown",
      "metadata": {
        "id": "2qAeNA_ZQogn"
      },
      "source": [
        "In the initial conditions of the game, all the missionaries and cannibals are on the right side alongwith the boat and the left side is completely empty. We will mimic this condition by defining variables for them.\n",
        "\n",
        "### **Define initial variables :**\n",
        "\n",
        "- Define variable `boat_side` as 'Right' initially. This depicts the boat being placed at right side.\n",
        "- Create numeric variables for number of missionaries and cannibals\n",
        "   on the right and left side.\n",
        "   So there are 3 missionaries and cannibals on right side and 0 on the left side.\n",
        "- **List of Variables :**\n",
        "`boat_side, missionaries_on_right, cannibals_on_right, missionaries_on_left, cannibals_on_left`\n"
      ]
    },
    {
      "cell_type": "code",
      "metadata": {
        "id": "AmjfaRdgQogo"
      },
      "source": [
        "#### Your code ####\n",
        "boat_side  = \"Right\"\n",
        "missionaries_on_right = 3\n",
        "cannibals_on_right = 3\n",
        "missionaries_on_left = 0\n",
        "cannibals_on_left = 0\n"
      ],
      "execution_count": null,
      "outputs": []
    },
    {
      "cell_type": "markdown",
      "metadata": {
        "id": "544yxFpIQogp"
      },
      "source": [
        "Now display the inital conditions of the game using the following stylish manner :<br>\n",
        "\n",
        "`M = 0 C = 0  |-----B|  M = 3 C = 3`<br>\n",
        "\n",
        "Make sure to not hardcode all values."
      ]
    },
    {
      "cell_type": "code",
      "metadata": {
        "id": "EGp8GNBhQogq",
        "colab": {
          "base_uri": "https://localhost:8080/"
        },
        "outputId": "0c861e9d-447f-44ae-acda-5bc9d9360edb"
      },
      "source": [
        "#### Your code ####\n",
        "\n",
        "# print(boat_side )\n",
        "# print(missionaries_on_right)\n",
        "# print(cannibals_on_right)\n",
        "# print(missionaries_on_left)\n",
        "# print(cannibals_on_left)\n",
        "\n",
        "print(\"M = \",missionaries_on_left,\" C = \",cannibals_on_left, \"|-----B|\", \"M = \",missionaries_on_right,\"C = \",missionaries_on_right)"
      ],
      "execution_count": null,
      "outputs": [
        {
          "output_type": "stream",
          "name": "stdout",
          "text": [
            "M =  0  C =  0 |-----B| M =  3 C =  3\n"
          ]
        }
      ]
    },
    {
      "cell_type": "markdown",
      "metadata": {
        "id": "PObVD9tdQogq"
      },
      "source": [
        "## <center>**Lesson 2**</center>\n",
        "#### <center>**Adding the required valid and invalid conditions alongwith their operations**</center>\n"
      ]
    },
    {
      "cell_type": "markdown",
      "metadata": {
        "id": "2aDEi-SqQogq"
      },
      "source": [
        "Take input from the user for entering the number of missionaries and cannibals on the boat.<br>\n",
        "Store these values in 2 variables : `missionaries, cannibals`\n",
        "\n",
        "This part depicts the process of tapping the `missionaries` and `cannibals` on to the boat.  \n",
        "\n",
        "**Note :** Make sure you pass the appropriate message in the input function that assists user in entering the values.\n",
        "\n",
        "**Note :** The following code cells will be common for both right side and left side required in Lesson 3 and Lesson 4."
      ]
    },
    {
      "cell_type": "code",
      "metadata": {
        "id": "GEglqSjrQogr",
        "colab": {
          "base_uri": "https://localhost:8080/"
        },
        "outputId": "82591e7c-5ab9-406e-a92a-126453b82b55"
      },
      "source": [
        "### Your code ###\n",
        "M = int(input('Enter the Misssionaries on the Boat:'))\n",
        "C = int(input('Enter the cannibals on the Boat:'))\n",
        "print('missionaries =',M)\n",
        "print(\"cannibals =\", C)"
      ],
      "execution_count": null,
      "outputs": [
        {
          "output_type": "stream",
          "name": "stdout",
          "text": [
            "Enter the Misssionaries on the Boat:1\n",
            "Enter the cannibals on the Boat:1\n",
            "missionaries = 1\n",
            "cannibals = 1\n"
          ]
        }
      ]
    },
    {
      "cell_type": "markdown",
      "metadata": {
        "id": "fVfioCyZQogs"
      },
      "source": [
        "**Invalid Move 1 :**\n",
        "\n",
        "Check if the maximum number of people on the boat are 1 or 2 only else print \"Invalid move 1\""
      ]
    },
    {
      "cell_type": "code",
      "metadata": {
        "id": "50I3KT4hQogs",
        "colab": {
          "base_uri": "https://localhost:8080/"
        },
        "outputId": "cd50ba24-81fb-4f86-df20-b0642a9c0375"
      },
      "source": [
        "### Your code ###\n",
        "if M + C >2 and M  +C <= 0:\n",
        "  print(\"Valid Move\")\n",
        "else:\n",
        "  print(\"invalid Move\")"
      ],
      "execution_count": null,
      "outputs": [
        {
          "output_type": "stream",
          "name": "stdout",
          "text": [
            "invalid Move\n"
          ]
        }
      ]
    },
    {
      "cell_type": "markdown",
      "metadata": {
        "id": "Oe1ymzIIQogt"
      },
      "source": [
        "###  <center>**Codeflow for Right Side**</center>"
      ]
    },
    {
      "cell_type": "markdown",
      "source": [
        "Add if - else statement to check the value of `boat_side` variable and display if the boat is on right side.\n",
        "\n",
        "This is done to confirm the boat side before carrying out the required operations."
      ],
      "metadata": {
        "id": "SoyMGHXrZd28"
      }
    },
    {
      "cell_type": "code",
      "source": [
        "### Your code ##\n",
        "if boat_side == 'right':\n",
        "\n",
        "  print(\"Boat is on right side\")\n",
        "else:\n",
        "  print(\"Boat is on left side\")"
      ],
      "metadata": {
        "id": "E0035i_CZasN",
        "colab": {
          "base_uri": "https://localhost:8080/"
        },
        "outputId": "2fb44b93-a151-4d2e-ffe9-85416af46b95"
      },
      "execution_count": null,
      "outputs": [
        {
          "output_type": "stream",
          "name": "stdout",
          "text": [
            "Boat is on right side\n"
          ]
        }
      ]
    },
    {
      "cell_type": "markdown",
      "source": [
        "**Invalid Move 2 :**\n",
        "\n",
        "Check if the number of missionaries or cannibals entered on the boat are greater than the available missionaries or cannibals on the right side. If yes, print \"Invalid move 2\"."
      ],
      "metadata": {
        "id": "Y8sYOlsqZolz"
      }
    },
    {
      "cell_type": "code",
      "metadata": {
        "id": "PzW5raCfQogt",
        "colab": {
          "base_uri": "https://localhost:8080/"
        },
        "outputId": "453ce10b-3567-4d82-e8eb-401297f059e9"
      },
      "source": [
        "### Your code ###\n",
        "if M >= missionaries_on_right or C>=cannibals_on_right:\n",
        "  print('valid')\n",
        "else:\n",
        "  print('invalid move')\n"
      ],
      "execution_count": null,
      "outputs": [
        {
          "output_type": "stream",
          "name": "stdout",
          "text": [
            "invalid move\n"
          ]
        }
      ]
    },
    {
      "cell_type": "markdown",
      "metadata": {
        "id": "d6wYZ7DLQogu"
      },
      "source": [
        "1When the boat travels from right side to left side :\n",
        "- Number of missionaries and cannibals reduce from the right side.\n",
        "- Number of missionaries and cannibals increase on the left side."
      ]
    },
    {
      "cell_type": "code",
      "metadata": {
        "id": "rgbWSeUBQogu"
      },
      "source": [
        "### Your code ###\n",
        "# if M+C < missionaries_on_right+cannibals_on_right :\n",
        "#   print('It reduce from right side')\n",
        "# elif M+C > missionaries_on_left+cannibals_on_left:\n",
        "#   print('It increase  on the left side')\n",
        "\n",
        "cannibals_on_right = cannibals_on_right - C\n",
        "missionaries_on_right = missionaries_on_right - M\n",
        "\n",
        "cannibals_on_left = cannibals_on_left + C\n",
        "missionaries_on_left = missionaries_on_left + M"
      ],
      "execution_count": null,
      "outputs": []
    },
    {
      "cell_type": "markdown",
      "metadata": {
        "id": "US5ADpenQogv"
      },
      "source": [
        "Display in the same format as mentioned above.\n",
        "\n",
        "`M = 1 C = 1  |B-----|  M = 2 C = 2`\n",
        "\n",
        "Change the `boat_side` variable to 'Left' aswell.\n",
        "\n",
        "This variable overwrite is the equivalent of the boat travelling from right side to left side."
      ]
    },
    {
      "cell_type": "code",
      "metadata": {
        "id": "roWkGTzyQogv",
        "colab": {
          "base_uri": "https://localhost:8080/"
        },
        "outputId": "25365a1c-31f3-4d42-86b9-1a8f190d6c98"
      },
      "source": [
        "### Your code ###\n",
        "print(\"M = \",missionaries_on_right, \"C = \",cannibals_on_right,\"|B-----|\" , \"M = \",missionaries_on_left, \"C = \",cannibals_on_left)"
      ],
      "execution_count": null,
      "outputs": [
        {
          "output_type": "stream",
          "name": "stdout",
          "text": [
            "M =  1 C =  1 |B-----| M =  2 C =  2\n"
          ]
        }
      ]
    },
    {
      "cell_type": "markdown",
      "metadata": {
        "id": "WWKdADPJQogw"
      },
      "source": [
        "###  <center>**Codeflow for Left Side**</center>\n"
      ]
    },
    {
      "cell_type": "code",
      "source": [
        "if boat_side == 'left':\n",
        "  print(\"Boat is on right side\")\n",
        "else:\n",
        "  print(\"Boat is on left side\")"
      ],
      "metadata": {
        "id": "EAyA6GhN52vk",
        "colab": {
          "base_uri": "https://localhost:8080/"
        },
        "outputId": "ae5f9b35-fbf6-446f-c33c-c8c1500c7544"
      },
      "execution_count": null,
      "outputs": [
        {
          "output_type": "stream",
          "name": "stdout",
          "text": [
            "Boat is on left side\n"
          ]
        }
      ]
    },
    {
      "cell_type": "markdown",
      "source": [
        "Add if - else statement to check the value of `boat_side` variable and display if the boat is on left side.\n",
        "\n",
        "This is done to confirm the boat side before carrying out the required operations."
      ],
      "metadata": {
        "id": "94_ZSJi8dSvd"
      }
    },
    {
      "cell_type": "code",
      "source": [
        "### Your code ###\n",
        "if M > missionaries_on_left or C > cannibals_on_left:\n",
        "  print('yes')\n",
        "else:\n",
        "   print('Invalid move')"
      ],
      "metadata": {
        "id": "zGgX00C-dSIt",
        "colab": {
          "base_uri": "https://localhost:8080/"
        },
        "outputId": "729c944e-4578-4ca2-fd19-5c4287e05f90"
      },
      "execution_count": null,
      "outputs": [
        {
          "output_type": "stream",
          "name": "stdout",
          "text": [
            "Invalid move\n"
          ]
        }
      ]
    },
    {
      "cell_type": "markdown",
      "source": [
        "**Invalid Move 2 :**\n",
        "\n",
        "Check if the number of missionaries or cannibals entered on the boat are greater than the available missionaries or cannibals on the left side. If yes, print \"Invalid move 2\"."
      ],
      "metadata": {
        "id": "hrTq7kv7dQ2u"
      }
    },
    {
      "cell_type": "code",
      "metadata": {
        "id": "XlrT8EEaQogw"
      },
      "source": [
        "### Your code ###\n",
        "missionaries_on_left = missionaries_on_left - M\n",
        "cannibals_on_left = cannibals_on_left - C\n",
        "\n",
        "missionaries_on_right = missionaries_on_right + M\n",
        "cannibals_on_right = cannibals_on_right + C\n",
        "\n"
      ],
      "execution_count": null,
      "outputs": []
    },
    {
      "cell_type": "markdown",
      "metadata": {
        "id": "gdYiQ1WXQogw"
      },
      "source": [
        "When the boat travels from left side to right side :\n",
        "- Number of missionaries and cannibals reduce from the left side.\n",
        "- Number of missionaries and cannibals increase on the right side."
      ]
    },
    {
      "cell_type": "code",
      "metadata": {
        "id": "z196LJKBQogw",
        "colab": {
          "base_uri": "https://localhost:8080/"
        },
        "outputId": "301d0464-d4bb-4fe3-bdc7-ca97261e1b3c"
      },
      "source": [
        "### Your code ###\n",
        "boat_side = \"right\"\n",
        "print('M =',missionaries_on_left ,\"C =\",cannibals_on_left,\"|-----B|\",'M = ',missionaries_on_right , 'M = ',cannibals_on_right)"
      ],
      "execution_count": null,
      "outputs": [
        {
          "output_type": "stream",
          "name": "stdout",
          "text": [
            "M = 1 C = 1 |-----B| M =  2 M =  2\n"
          ]
        }
      ]
    },
    {
      "cell_type": "markdown",
      "metadata": {
        "id": "oB-3nBCkQogx"
      },
      "source": [
        "Display in the same format as mentioned above.\n",
        "\n",
        "`M = 0 C = 0  |-----B|  M = 3 C = 3`\n",
        "\n",
        "Change the `boat_side` variable to 'Right'.\n",
        "\n",
        "This marks the boat being travelled back to right side."
      ]
    },
    {
      "cell_type": "markdown",
      "source": [
        "###  <center>**Conditions for Losing the Game**</center>"
      ],
      "metadata": {
        "id": "WKu9fCDCgvPb"
      }
    },
    {
      "cell_type": "markdown",
      "metadata": {
        "id": "sNJhIGL6Qogz"
      },
      "source": [
        "Add conditions to check if the game is lost :\n",
        "- If the number of missionaries is less than the number of cannibals on the right side and the number of missionaries on right side are greater than 0, then print `'YOU LOSE'`.\n",
        "- If the number of missionaries is less than the number of cannibals on the left side and the number of missionaries on left side are greater than 0, then print `'YOU LOSE'`."
      ]
    },
    {
      "cell_type": "code",
      "metadata": {
        "id": "zKqb4BADQog0",
        "colab": {
          "base_uri": "https://localhost:8080/"
        },
        "outputId": "59f76952-d3d7-48f5-b045-125c4c1101d2"
      },
      "source": [
        "### Your code ###\n",
        "if M < cannibals_on_right and missionaries_on_right > 0:\n",
        "  print('YOU LOSE')\n",
        "elif M < cannibals_on_left and missionaries_on_left > 0:\n",
        "  print('YOU LOSE')"
      ],
      "execution_count": null,
      "outputs": [
        {
          "output_type": "stream",
          "name": "stdout",
          "text": [
            "YOU LOSE\n"
          ]
        }
      ]
    },
    {
      "cell_type": "markdown",
      "source": [
        "###  <center>**Conditions for Winning the Game**</center>"
      ],
      "metadata": {
        "id": "3JdBVqIWhdwj"
      }
    },
    {
      "cell_type": "markdown",
      "metadata": {
        "id": "aS47ad6CQog0"
      },
      "source": [
        "Add conditions to check if the game is won :\n",
        "- If the number of missionaries and cannibals on the left side are equal to 3, then print `'YOU WIN'`."
      ]
    },
    {
      "cell_type": "code",
      "metadata": {
        "id": "5dW6W8gyQog0"
      },
      "source": [
        "### Your code ###\n",
        "if missionaries_on_left == 3 and cannibals_on_left == 3:\n",
        "  print('YOU WIN')"
      ],
      "execution_count": null,
      "outputs": []
    },
    {
      "cell_type": "markdown",
      "metadata": {
        "id": "Si__xVHFQog1"
      },
      "source": [
        "## <center>**Lesson 3**</center>\n",
        "#### <center>**Combining all segments of the code to build the game**</center>"
      ]
    },
    {
      "cell_type": "markdown",
      "source": [
        "### **Structure of the Combined Code :**\n",
        "\n",
        "<center>\n",
        "\n",
        "```\n",
        "    Setup the inital game conditions and display your game board in the below format.\n",
        "     \n",
        "        M = 0 C = 0  |-----B|  M = 3 C = 3\n",
        "```\n",
        "</center>\n",
        "\n",
        " boat_side == \"Right\":\n",
        "\n",
        "<center>\n",
        "\n",
        "```\n",
        "    Check the maximum number of people permitted to travel on the boat.    \n",
        "```\n",
        "```\n",
        "    Now check if the number of missionaries or cannibals entered on the\n",
        "    boat are more than the available missionaries and cannibals on the  \n",
        "    right side.\n",
        "```   \n",
        "```\n",
        "    When the boat travels from the right side, missionaries and cannibals\n",
        "    reduce from the right side and increase on the left side.    \n",
        "```     \n",
        "```\n",
        "    Display your game board in the below format.\n",
        "    \n",
        "        M = 0 C = 0  |B-----|  M = 3 C = 3\n",
        "\n",
        "    Make the necessary changes that mark the side change from right side to left side.\n",
        "```\n",
        "</center>\n",
        "\n",
        " boat_side == \"Left\":\n",
        "\n",
        "<center>\n",
        "\n",
        "```\n",
        "    Check the maximum number of people permitted to travel on the boat.    \n",
        "```\n",
        "```\n",
        "    Now check if the number of missionaries or cannibals entered on the\n",
        "    boat are more than the available missionaries and cannibals on the  \n",
        "    left side.\n",
        "```   \n",
        "```\n",
        "    When the boat travels from the left side, missionaries and cannibals\n",
        "    reduce from the left side and increase on the right side.    \n",
        "```\n",
        "```\n",
        "    Display your game board in the below format.\n",
        "    \n",
        "    M = 0 C = 0  |-----B|  M = 3 C = 3\n",
        "\n",
        "    Make the necessary changes that mark the side change from left side to right side.\n",
        "```\n",
        "</center>"
      ],
      "metadata": {
        "id": "e7uW2kToiKsv"
      }
    },
    {
      "cell_type": "markdown",
      "metadata": {
        "id": "IiNzyXCJQog1"
      },
      "source": [
        "The game must go on until you win or lose, so lets put all the conditions inside an infinite loop :\n",
        "\n",
        "- Connect all the segments of the code according to the above structure and do the necessary amendments.\n",
        "- If a move is invalid then without making any changes, you have to `continue`.\n",
        "\n",
        "  This is done so that we get a second chance to change our inputs and start over from the same point without losing previous amendments.\n",
        "\n",
        "- If you Win or Lose the game `break` the loop and get out of it.\n",
        "- Check the winning and losing condition everytime after the boat has travelled.\n",
        "- After getting out of the loop print `Game Over`."
      ]
    },
    {
      "cell_type": "code",
      "source": [
        "### Your code ###\n",
        "boat_side='Right'\n",
        "missionaries_on_right=3\n",
        "cannibals_on_right=3\n",
        "missionaries_on_left=0\n",
        "cannibals_on_left=0\n",
        "\n",
        "print(\"M = \",missionaries_on_left,\" C = \",cannibals_on_left, \"|-----B|\", \"M = \",missionaries_on_right,\"C = \",missionaries_on_right)\n",
        "while True:\n",
        "  M = int(input('Enter the Misssionaries on the Boat:'))\n",
        "  C = int(input('Enter the cannibals on the Boat:'))\n",
        "\n",
        "  if M + C > 2 and M + C <= 0:\n",
        "   print(\"invalid to move\")\n",
        "   continue\n",
        "\n",
        "  #right side\n",
        "  if boat_side=='Right':\n",
        "    print(\"boat is on right side\")\n",
        "  # else:\n",
        "  #   print(\"not move\")\n",
        "    if M > missionaries_on_right or C >cannibals_on_right:\n",
        "      print(\"invalid move 2\")\n",
        "      continue\n",
        "    else:\n",
        "      cannibals_on_right = cannibals_on_right - C\n",
        "      missionaries_on_right= missionaries_on_right - M\n",
        "\n",
        "      missionaries_on_left = missionaries_on_left + M\n",
        "      cannibals_on_left= cannibals_on_left + C\n",
        "\n",
        "      boat_side = \"Left\"\n",
        "\n",
        "      print(\"M = \",missionaries_on_right, \"C = \",cannibals_on_right,\"|B-----|\" , \"M = \",missionaries_on_left, \"C = \",cannibals_on_left )\n",
        "\n",
        "\n",
        "    #left side\n",
        "  elif boat_side == \"Left\":\n",
        "    print(\"boat is on left side\")\n",
        "  # else:\n",
        "  #   print(\"not move\")\n",
        "    if M > missionaries_on_left or C >cannibals_on_left:\n",
        "      print(\"invalid move 2\")\n",
        "      continue\n",
        "    else:\n",
        "      missionaries_on_left = missionaries_on_left - M\n",
        "      cannibals_on_left= cannibals_on_left - C\n",
        "\n",
        "      cannibals_on_right = cannibals_on_right + C\n",
        "      missionaries_on_right= missionaries_on_right + M\n",
        "      boat_side = \"Right\"\n",
        "      print('M =',missionaries_on_left ,\"C =\",cannibals_on_left,\"|-----B|\",'M = ',missionaries_on_right , 'M = ',cannibals_on_right)\n",
        "\n",
        "  if missionaries_on_right < cannibals_on_right and missionaries_on_right > 0 or missionaries_on_left < cannibals_on_left and missionaries_on_left>0:\n",
        "    print ('YOU LOSE')\n",
        "    break\n",
        "  elif missionaries_on_left==3 and cannibals_on_left == 3:\n",
        "    print('YOU WIN')\n",
        "    break\n",
        "\n",
        "print(\"Game over\")\n",
        "\n"
      ],
      "metadata": {
        "colab": {
          "base_uri": "https://localhost:8080/"
        },
        "outputId": "1a9e636e-c280-4772-84a8-a23dbab28536",
        "id": "_bhW0lia4eJv"
      },
      "execution_count": null,
      "outputs": [
        {
          "output_type": "stream",
          "name": "stdout",
          "text": [
            "M =  0  C =  0 |-----B| M =  3 C =  3\n",
            "Enter the Misssionaries on the Boat:0\n",
            "Enter the cannibals on the Boat:2\n",
            "boat is on right side\n",
            "M =  3 C =  1 |B-----| M =  0 C =  2\n",
            "Enter the Misssionaries on the Boat:0\n",
            "Enter the cannibals on the Boat:1\n",
            "boat is on left side\n",
            "M = 0 C = 1 |-----B| M =  3 M =  2\n",
            "Enter the Misssionaries on the Boat:0\n",
            "Enter the cannibals on the Boat:2\n",
            "boat is on right side\n",
            "M =  3 C =  0 |B-----| M =  0 C =  3\n",
            "Enter the Misssionaries on the Boat:0\n",
            "Enter the cannibals on the Boat:1\n",
            "boat is on left side\n",
            "M = 0 C = 2 |-----B| M =  3 M =  1\n",
            "Enter the Misssionaries on the Boat:2\n",
            "Enter the cannibals on the Boat:0\n",
            "boat is on right side\n",
            "M =  1 C =  1 |B-----| M =  2 C =  2\n",
            "Enter the Misssionaries on the Boat:1\n",
            "Enter the cannibals on the Boat:1\n",
            "boat is on left side\n",
            "M = 1 C = 1 |-----B| M =  2 M =  2\n",
            "Enter the Misssionaries on the Boat:2\n",
            "Enter the cannibals on the Boat:0\n",
            "boat is on right side\n",
            "M =  0 C =  2 |B-----| M =  3 C =  1\n",
            "Enter the Misssionaries on the Boat:0\n",
            "Enter the cannibals on the Boat:1\n",
            "boat is on left side\n",
            "M = 3 C = 0 |-----B| M =  0 M =  3\n",
            "Enter the Misssionaries on the Boat:0\n",
            "Enter the cannibals on the Boat:2\n",
            "boat is on right side\n",
            "M =  0 C =  1 |B-----| M =  3 C =  2\n",
            "Enter the Misssionaries on the Boat:0\n",
            "Enter the cannibals on the Boat:1\n",
            "boat is on left side\n",
            "M = 3 C = 1 |-----B| M =  0 M =  2\n",
            "Enter the Misssionaries on the Boat:0\n",
            "Enter the cannibals on the Boat:2\n",
            "boat is on right side\n",
            "M =  0 C =  0 |B-----| M =  3 C =  3\n",
            "YOU WIN\n",
            "Game over\n"
          ]
        }
      ]
    },
    {
      "cell_type": "markdown",
      "source": [
        "2## <center>**Lesson 4**</center>\n",
        "\n",
        "####<center>**Adding emoticons to complete the game with better interface**</center>"
      ],
      "metadata": {
        "id": "FZHREN7aVHTa"
      }
    },
    {
      "cell_type": "markdown",
      "metadata": {
        "id": "-hIyuzsJQog3"
      },
      "source": [
        "###  Let's make it pretty!\n",
        "\n",
        "#### Clear Screen :\n",
        "- This is a `function` that is utilized to clear the screen after every input statement and helps us to reduce the huge output generated after playing the game built in Lesson 3.\n",
        "  \n",
        "- Copy the following code snippet and paste at the top of your code:\n",
        "\n",
        "  `from IPython.display import clear_output`\n",
        "\n",
        "- Decide its place in the code such that after using it, we should be able to see the changes done after carrying out all the operations of that side and assists us in deciding our next move for the opposite side.\n",
        "\n",
        "  `clear_output()`\n",
        "\n",
        "#### Adding Emoticons :\n",
        "- Use the power of unicodes and emoticons.\n",
        "- Use of string replication.\n",
        "- **Hint :** The unicodes are in string datatype string and display using print function.\n",
        "\n",
        "**The output should look like this after making all the changes**\n",
        "\n",
        "|🌊🌊🌊🌊🌊🚢|💂💂💂👹👹👹\n",
        "<br>\n",
        "After the first move, if we input 1 missionary and 1 cannibal the output will be:\n",
        "\n",
        "💂👹|🌊🌊🌊🌊🌊🚢|💂💂👹👹\n",
        "\n",
        "##### Unicodes\n",
        "💂 = '\\U0001f482'\n",
        "\n",
        "👹 = '\\U0001f479'\n",
        "\n",
        "🌊 = '\\U0001f30a'\n",
        "\n",
        "🚢 = '\\U0001f6A2'"
      ]
    },
    {
      "cell_type": "code",
      "metadata": {
        "id": "Cadm-2d0Qog4"
      },
      "source": [
        "# Print in extra stylish manner\n",
        "# Display the number of missionaries based on their count on the left side using string replication\n",
        "### Your code ###\n",
        "\n",
        "# Display the number of cannibals based on their count on the left side using string replication\n",
        "### Your code ###\n",
        "\n",
        "# Display the waves emoji for 4 times using string replication\n",
        "### Your code ###\n",
        "\n",
        "# Display the boat using string replication\n",
        "### Your code ###\n",
        "\n",
        "\n",
        "# Display the number of missionaries based on their count on the right side using string replication\n",
        "### Your code ###\n",
        "\n",
        "\n",
        "# Display the number of cannibals based on their count on the right side using string replication\n",
        "### Your code ###\n",
        "\n"
      ],
      "execution_count": null,
      "outputs": []
    },
    {
      "cell_type": "code",
      "source": [
        "### Your code ###\n",
        "boat_side='Right'\n",
        "missionaries_on_right=3\n",
        "cannibals_on_right=3\n",
        "missionaries_on_left=0\n",
        "cannibals_on_left=0\n",
        "\n",
        "print( '\\U0001f482'*missionaries_on_left,  '\\U0001f479'*cannibals_on_left, \"|\",'\\U0001f30a'*5,'\\U0001f6A2' \"|\",  '\\U0001f482'*missionaries_on_right,   '\\U0001f479'*cannibals_on_right)\n",
        "\n",
        "while True:\n",
        "  M = int(input('Enter the Misssionaries on the Boat:'))\n",
        "  C = int(input('Enter the cannibals on the Boat:'))\n",
        "\n",
        "  if M + C > 2 and M + C <= 0:\n",
        "   print(\"invalid to move\")\n",
        "   continue\n",
        "\n",
        "  #right side\n",
        "  if boat_side=='Right':\n",
        "    print(\"boat is on right side\")\n",
        "  # else:\n",
        "  #   print(\"not move\")\n",
        "    if M > missionaries_on_right or C >cannibals_on_right:\n",
        "      print(\"invalid move 2\")\n",
        "      continue\n",
        "    else:\n",
        "      cannibals_on_right = cannibals_on_right - C\n",
        "      missionaries_on_right= missionaries_on_right - M\n",
        "\n",
        "      missionaries_on_left = missionaries_on_left + M\n",
        "      cannibals_on_left= cannibals_on_left + C\n",
        "\n",
        "      boat_side = \"Left\"\n",
        "\n",
        "    print('\\U0001f482'*missionaries_on_left,'\\U0001f479'*cannibals_on_left,\"|\",'\\U0001f6A2','\\U0001f30a'*5,\"|\",'\\U0001f482'*missionaries_on_right,'\\U0001f479'*cannibals_on_right)\n",
        "\n",
        "    #left side\n",
        "  elif boat_side == \"Left\":\n",
        "    print(\"boat is on left side\")\n",
        "  # else:\n",
        "  #   print(\"not move\")\n",
        "    if M > missionaries_on_left or C >cannibals_on_left:\n",
        "      print(\"invalid move 2\")\n",
        "      continue\n",
        "    else:\n",
        "      missionaries_on_left = missionaries_on_left - M\n",
        "      cannibals_on_left= cannibals_on_left - C\n",
        "\n",
        "      cannibals_on_right = cannibals_on_right + C\n",
        "      missionaries_on_right= missionaries_on_right + M\n",
        "      boat_side = \"Right\"\n",
        "    print('\\U0001f482'*missionaries_on_left,'\\U0001f479'*cannibals_on_left,\"|\",'\\U0001f30a'*5,'\\U0001f6A2',\"|\",'\\U0001f482'*missionaries_on_right,'\\U0001f479'*cannibals_on_right)\n",
        "\n",
        "  if missionaries_on_right < cannibals_on_right and missionaries_on_right > 0 or missionaries_on_left < cannibals_on_left and missionaries_on_left>0:\n",
        "    print ('YOU LOSE')\n",
        "    break\n",
        "  elif missionaries_on_left==3 and cannibals_on_left == 3:\n",
        "    print('YOU WIN')\n",
        "    break\n",
        "\n",
        "print(\"Game over\")\n",
        "\n"
      ],
      "metadata": {
        "colab": {
          "base_uri": "https://localhost:8080/"
        },
        "id": "pEkYNdSeFNop",
        "outputId": "e844b7a3-5870-4158-8823-baab109e7daa"
      },
      "execution_count": null,
      "outputs": [
        {
          "output_type": "stream",
          "name": "stdout",
          "text": [
            "  | 🌊🌊🌊🌊🌊 🚢| 💂💂💂 👹👹👹\n",
            "Enter the Misssionaries on the Boat:0\n",
            "Enter the cannibals on the Boat:2\n",
            "boat is on right side\n",
            " 👹👹 | 🚢 🌊🌊🌊🌊🌊 | 💂💂💂 👹\n",
            "Enter the Misssionaries on the Boat:0\n",
            "Enter the cannibals on the Boat:1\n",
            "boat is on left side\n",
            " 👹 | 🌊🌊🌊🌊🌊 🚢 | 💂💂💂 👹👹\n",
            "Enter the Misssionaries on the Boat:0\n",
            "Enter the cannibals on the Boat:2\n",
            "boat is on right side\n",
            " 👹👹👹 | 🚢 🌊🌊🌊🌊🌊 | 💂💂💂 \n",
            "Enter the Misssionaries on the Boat:0\n",
            "Enter the cannibals on the Boat:1\n",
            "boat is on left side\n",
            " 👹👹 | 🌊🌊🌊🌊🌊 🚢 | 💂💂💂 👹\n",
            "Enter the Misssionaries on the Boat:2\n",
            "Enter the cannibals on the Boat:0\n",
            "boat is on right side\n",
            "💂💂 👹👹 | 🚢 🌊🌊🌊🌊🌊 | 💂 👹\n",
            "Enter the Misssionaries on the Boat:1\n",
            "Enter the cannibals on the Boat:1\n",
            "boat is on left side\n",
            "💂 👹 | 🌊🌊🌊🌊🌊 🚢 | 💂💂 👹👹\n",
            "Enter the Misssionaries on the Boat:2\n",
            "Enter the cannibals on the Boat:0\n",
            "boat is on right side\n",
            "💂💂💂 👹 | 🚢 🌊🌊🌊🌊🌊 |  👹👹\n",
            "Enter the Misssionaries on the Boat:0\n",
            "Enter the cannibals on the Boat:1\n",
            "boat is on left side\n",
            "💂💂💂  | 🌊🌊🌊🌊🌊 🚢 |  👹👹👹\n",
            "Enter the Misssionaries on the Boat:0\n",
            "Enter the cannibals on the Boat:2\n",
            "boat is on right side\n",
            "💂💂💂 👹👹 | 🚢 🌊🌊🌊🌊🌊 |  👹\n",
            "Enter the Misssionaries on the Boat:0\n",
            "Enter the cannibals on the Boat:1\n",
            "boat is on left side\n",
            "💂💂💂 👹 | 🌊🌊🌊🌊🌊 🚢 |  👹👹\n",
            "Enter the Misssionaries on the Boat:0\n",
            "Enter the cannibals on the Boat:2\n",
            "boat is on right side\n",
            "💂💂💂 👹👹👹 | 🚢 🌊🌊🌊🌊🌊 |  \n",
            "YOU WIN\n",
            "Game over\n"
          ]
        }
      ]
    },
    {
      "cell_type": "markdown",
      "metadata": {
        "id": "WpcPEa3JQog4"
      },
      "source": [
        "### <center>**Complete Code**</center>\n"
      ]
    },
    {
      "cell_type": "markdown",
      "source": [
        "# <center>Happy Learning!</center>"
      ],
      "metadata": {
        "id": "VDdKbLpalpUS"
      }
    }
  ]
}